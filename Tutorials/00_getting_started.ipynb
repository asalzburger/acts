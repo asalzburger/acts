{
 "cells": [
  {
   "cell_type": "markdown",
   "id": "41fe5ded",
   "metadata": {},
   "source": [
    "# Getting started\n",
    "\n",
    "This notebook demonstrates the very steps in using acts and make sure you have a valid ACTS enviorment.\n",
    "\n",
    "## Setup tests\n",
    "\n",
    "The recommended way is to setup an ACTS python environment (indeally in a virtual python environment), then start a jupyter notebook:\n",
    "```sh\n",
    "jupyter notebook\n",
    "```\n",
    "\n",
    "When the notebook is started, it should show you the URL of the kernel, e.g.\n",
    "```sh\n",
    "http://127.0.0.1:8888/tree?token=<some token>\n",
    "```\n",
    "this is what you can use also to connect to VSCode, e.g.\n",
    "\n",
    "The following import command should now work without failure:"
   ]
  },
  {
   "cell_type": "code",
   "execution_count": 1,
   "id": "b55413f4",
   "metadata": {},
   "outputs": [],
   "source": [
    "import acts"
   ]
  },
  {
   "cell_type": "markdown",
   "id": "ba41b49b",
   "metadata": {},
   "source": [
    "## Importing the Open Data Detector and building it\n",
    "\n",
    "Let us check if you can already import the Open Data Detector and build it."
   ]
  },
  {
   "cell_type": "code",
   "execution_count": 3,
   "id": "24a899f1",
   "metadata": {},
   "outputs": [
    {
     "name": "stdout",
     "output_type": "stream",
     "text": [
      "DD4hep           WARN  ++ STD conditions NOT defined by client. NTP defaults taken.\n",
      "Detector         WARN  +++ Object 'compact_checksum' is already defined. New value will be ignored\n",
      "11:31:27    DD4hepConver   INFO      Translating DD4hep geometry into Acts geometry\n",
      "11:31:27    DD4hepConver   INFO      Translating DD4hep sub detector: BeamPipe\n",
      "11:31:27    DD4hepConver   INFO      Translating DD4hep sub detector: Pixels\n",
      "11:31:27    DD4hepConver   INFO      Translating DD4hep sub detector: PST\n",
      "11:31:27    DD4hepConver   INFO      Translating DD4hep sub detector: ShortStrips\n",
      "11:31:27    DD4hepConver   INFO      Translating DD4hep sub detector: LongStrips\n",
      "11:31:27    DD4hepConver   INFO      Translating DD4hep sub detector: Solenoid\n",
      "11:31:27    DD4hepConver   INFO      Translating DD4hep sub detector: ECal\n",
      "11:31:27    DD4hepConver   INFO      Translating DD4hep sub detector: HCal\n",
      "11:31:27    D2A_V:ECal     INFO      No layers present, returning nullptr\n",
      "11:31:27    TrackingGeom   INFO      Received nullptr volume from builder, keeping previous highest volume\n",
      "11:31:27    D2A_V:HCal     INFO      No layers present, returning nullptr\n",
      "11:31:27    TrackingGeom   INFO      Received nullptr volume from builder, keeping previous highest volume\n"
     ]
    },
    {
     "name": "stderr",
     "output_type": "stream",
     "text": [
      "Warning in <TGeoMixture::ComputeDerivedQuantities>: Mixture PE: sum of weights is: 6\n"
     ]
    }
   ],
   "source": [
    "from acts.examples.odd import getOpenDataDetector\n",
    "\n",
    "detector = getOpenDataDetector()\n",
    "trackingGeometry = detector.trackingGeometry()\n",
    "decorators = detector.contextDecorators()\n"
   ]
  },
  {
   "cell_type": "markdown",
   "id": "e2a4c1ce",
   "metadata": {},
   "source": [
    "This command - if successful - builds the open data detector the corresponding screen outout comes directly from DD4hep and ACTS building."
   ]
  },
  {
   "cell_type": "code",
   "execution_count": null,
   "id": "55774d02",
   "metadata": {},
   "outputs": [],
   "source": [
    "surfaceMap = trackingGeometry.geoIdSurfaceMap()"
   ]
  },
  {
   "cell_type": "markdown",
   "id": "862713ff",
   "metadata": {},
   "source": [
    "Let's check how many surfaces there are, only sensitive surfaces will be counted:"
   ]
  },
  {
   "cell_type": "code",
   "execution_count": 6,
   "id": "68be628d",
   "metadata": {},
   "outputs": [
    {
     "name": "stdout",
     "output_type": "stream",
     "text": [
      "Print there are  18824  surfaces\n"
     ]
    }
   ],
   "source": [
    "print(\"Print there are \",str(len(surfaceMap)),\" surfaces\")"
   ]
  },
  {
   "cell_type": "code",
   "execution_count": null,
   "id": "e4740675",
   "metadata": {},
   "outputs": [],
   "source": []
  }
 ],
 "metadata": {
  "kernelspec": {
   "display_name": "Python 3 (ipykernel)",
   "language": "python",
   "name": "python3"
  }
 },
 "nbformat": 4,
 "nbformat_minor": 5
}
